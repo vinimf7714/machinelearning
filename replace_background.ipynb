{
  "nbformat": 4,
  "nbformat_minor": 0,
  "metadata": {
    "colab": {
      "provenance": [],
      "authorship_tag": "ABX9TyNffVheHRVD3pzX7x1/FJDO",
      "include_colab_link": true
    },
    "kernelspec": {
      "name": "python3",
      "display_name": "Python 3"
    },
    "language_info": {
      "name": "python"
    }
  },
  "cells": [
    {
      "cell_type": "markdown",
      "metadata": {
        "id": "view-in-github",
        "colab_type": "text"
      },
      "source": [
        "<a href=\"https://colab.research.google.com/github/vinimf7714/machinelearning/blob/main/replace_background.ipynb\" target=\"_parent\"><img src=\"https://colab.research.google.com/assets/colab-badge.svg\" alt=\"Open In Colab\"/></a>"
      ]
    },
    {
      "cell_type": "markdown",
      "source": [
        "# New Section"
      ],
      "metadata": {
        "id": "Zi3tmQysP_wN"
      }
    },
    {
      "cell_type": "code",
      "source": [
        "!pip install rembg pillow --quiet\n",
        "!pip install rembg pillow onnxruntime --quiet\n",
        "\n"
      ],
      "metadata": {
        "id": "eWuxhGzNPz68",
        "colab": {
          "base_uri": "https://localhost:8080/"
        },
        "outputId": "8d166446-26d8-478f-b0a7-b80827431fe6"
      },
      "execution_count": 39,
      "outputs": [
        {
          "output_type": "stream",
          "name": "stdout",
          "text": [
            "\u001b[2K   \u001b[90m━━━━━━━━━━━━━━━━━━━━━━━━━━━━━━━━━━━━━━━━\u001b[0m \u001b[32m16.4/16.4 MB\u001b[0m \u001b[31m59.6 MB/s\u001b[0m eta \u001b[36m0:00:00\u001b[0m\n",
            "\u001b[2K   \u001b[90m━━━━━━━━━━━━━━━━━━━━━━━━━━━━━━━━━━━━━━━━\u001b[0m \u001b[32m46.0/46.0 kB\u001b[0m \u001b[31m3.3 MB/s\u001b[0m eta \u001b[36m0:00:00\u001b[0m\n",
            "\u001b[2K   \u001b[90m━━━━━━━━━━━━━━━━━━━━━━━━━━━━━━━━━━━━━━━━\u001b[0m \u001b[32m86.8/86.8 kB\u001b[0m \u001b[31m7.0 MB/s\u001b[0m eta \u001b[36m0:00:00\u001b[0m\n",
            "\u001b[?25h"
          ]
        }
      ]
    },
    {
      "cell_type": "code",
      "source": [
        "import os\n",
        "os.listdir(\"/content\")\n"
      ],
      "metadata": {
        "colab": {
          "base_uri": "https://localhost:8080/"
        },
        "id": "-927ItWlQr3F",
        "outputId": "f3714609-4d77-4afe-e568-1e793c1e841f"
      },
      "execution_count": 37,
      "outputs": [
        {
          "output_type": "execute_result",
          "data": {
            "text/plain": [
              "['.config', '.ipynb_checkpoints', 'paris.jpg', 'sansao.jpg', 'sample_data']"
            ]
          },
          "metadata": {},
          "execution_count": 37
        }
      ]
    },
    {
      "cell_type": "code",
      "execution_count": 44,
      "metadata": {
        "colab": {
          "base_uri": "https://localhost:8080/"
        },
        "id": "DEj_mjgVJYM_",
        "outputId": "a307583e-797e-4f17-b034-91a27a4eafec"
      },
      "outputs": [
        {
          "output_type": "stream",
          "name": "stdout",
          "text": [
            "xxxxxxxxxxx\n"
          ]
        }
      ],
      "source": [
        "# 📸 Reposicionar pessoa em novo cenário com IA\n",
        "\n",
        "## 🔧 Instalar bibliotecas necessárias\n",
        "\n",
        "from PIL import Image\n",
        "from rembg import remove\n",
        "\n",
        "input_path = \"/content/vinigi.jpeg\"\n",
        "bg_path = \"/content/grecia.jpg\"\n",
        "\n",
        "# Abrir imagem da pessoa e remover fundo\n",
        "img = Image.open(input_path).convert(\"RGBA\")\n",
        "img_no_bg = remove(img)\n",
        "\n",
        "# Abrir imagem de fundo e redimensionar\n",
        "background = Image.open(bg_path).convert(\"RGBA\")\n",
        "background = background.resize(img_no_bg.size)\n",
        "\n",
        "# Colocar pessoa sobre o novo fundo\n",
        "background.paste(img_no_bg, (0, 0), img_no_bg)\n",
        "\n",
        "# Salvar resultado\n",
        "background.save(\"saida.png\")\n",
        "background.show()\n"
      ]
    }
  ]
}